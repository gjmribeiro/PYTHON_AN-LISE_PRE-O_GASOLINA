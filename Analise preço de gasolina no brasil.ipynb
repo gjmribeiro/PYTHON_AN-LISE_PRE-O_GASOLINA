{
 "cells": [
  {
   "cell_type": "markdown",
   "id": "8f29c49f",
   "metadata": {},
   "source": [
    "# Analise preço de gasolina no brasil "
   ]
  },
  {
   "cell_type": "markdown",
   "id": "5764aeea",
   "metadata": {},
   "source": [
    "Dados retirados do kaggle :https://www.kaggle.com/datasets/matheusfreitag/gas-prices-in-brazil\n",
    "Esse projeto foi elaborado para fins didaticos onde com auxilio da biblioteca pandas será feito diversas analises no DataFrame.\n"
   ]
  },
  {
   "cell_type": "markdown",
   "id": "463bf653",
   "metadata": {},
   "source": [
    "-Tipos de produtos contidos na base? \n",
    "-Gere um DataFrame apenas com gasolina comum\n",
    "-Qual preço medio de revenda no ano de 2010\n",
    "-Preço medio de revenda em 2014 na cidade de são paulo \n",
    "-Qual a média de preço dos estados da região sul em 2012?\n",
    "-Qual(quais) estado(s) a gasolina ultrapassou a barreira dos R$ 5,00? E quando isso ocorreu?\n",
    "-Gerar uma tabela contendo a variação percentual ano a ano para o estado do Rio de Janeiro?\n"
   ]
  },
  {
   "cell_type": "markdown",
   "id": "915d32bc",
   "metadata": {
    "heading_collapsed": true
   },
   "source": [
    "# Importar bibliotecas"
   ]
  },
  {
   "cell_type": "code",
   "execution_count": 1,
   "id": "910b6bc2",
   "metadata": {
    "hidden": true
   },
   "outputs": [],
   "source": [
    "import pandas as pd"
   ]
  },
  {
   "cell_type": "markdown",
   "id": "13cc8014",
   "metadata": {
    "heading_collapsed": true
   },
   "source": [
    "# Importar banco de dados"
   ]
  },
  {
   "cell_type": "code",
   "execution_count": 2,
   "id": "5b7d04f5",
   "metadata": {
    "hidden": true
   },
   "outputs": [
    {
     "name": "stderr",
     "output_type": "stream",
     "text": [
      "C:\\Users\\Gabriel\\AppData\\Local\\Temp\\ipykernel_9060\\1366514226.py:2: DtypeWarning: Columns (12,14,15,16,17,18) have mixed types. Specify dtype option on import or set low_memory=False.\n",
      "  dados_2010 = pd.read_csv('gasolina_2010+.csv')\n"
     ]
    }
   ],
   "source": [
    "dados_2000 = pd.read_csv('gasolina_2000+.csv')\n",
    "dados_2010 = pd.read_csv('gasolina_2010+.csv')"
   ]
  },
  {
   "cell_type": "code",
   "execution_count": 3,
   "id": "ac287c67",
   "metadata": {
    "hidden": true
   },
   "outputs": [
    {
     "data": {
      "text/plain": [
       "(42638, 19)"
      ]
     },
     "execution_count": 3,
     "metadata": {},
     "output_type": "execute_result"
    }
   ],
   "source": [
    "dados_2000.shape\n"
   ]
  },
  {
   "cell_type": "code",
   "execution_count": 4,
   "id": "983c2844",
   "metadata": {
    "hidden": true
   },
   "outputs": [
    {
     "data": {
      "text/plain": [
       "(78185, 19)"
      ]
     },
     "execution_count": 4,
     "metadata": {},
     "output_type": "execute_result"
    }
   ],
   "source": [
    "dados_2010.shape\n"
   ]
  },
  {
   "cell_type": "markdown",
   "id": "130ed4eb",
   "metadata": {},
   "source": [
    "# Análise "
   ]
  },
  {
   "cell_type": "markdown",
   "id": "2ae1e302",
   "metadata": {
    "heading_collapsed": true
   },
   "source": [
    "### Tipo"
   ]
  },
  {
   "cell_type": "code",
   "execution_count": 5,
   "id": "bd5724e4",
   "metadata": {
    "hidden": true
   },
   "outputs": [
    {
     "name": "stdout",
     "output_type": "stream",
     "text": [
      "<class 'pandas.core.frame.DataFrame'>\n",
      "RangeIndex: 42638 entries, 0 to 42637\n",
      "Data columns (total 19 columns):\n",
      " #   Column                         Non-Null Count  Dtype  \n",
      "---  ------                         --------------  -----  \n",
      " 0   Unnamed: 0                     42638 non-null  int64  \n",
      " 1   DATA INICIAL                   42638 non-null  object \n",
      " 2   DATA FINAL                     42638 non-null  object \n",
      " 3   REGIÃO                         42638 non-null  object \n",
      " 4   ESTADO                         42638 non-null  object \n",
      " 5   PRODUTO                        42638 non-null  object \n",
      " 6   NÚMERO DE POSTOS PESQUISADOS   42638 non-null  int64  \n",
      " 7   UNIDADE DE MEDIDA              42638 non-null  object \n",
      " 8   PREÇO MÉDIO REVENDA            42638 non-null  float64\n",
      " 9   DESVIO PADRÃO REVENDA          42638 non-null  float64\n",
      " 10  PREÇO MÍNIMO REVENDA           42638 non-null  float64\n",
      " 11  PREÇO MÁXIMO REVENDA           42638 non-null  float64\n",
      " 12  MARGEM MÉDIA REVENDA           42638 non-null  object \n",
      " 13  COEF DE VARIAÇÃO REVENDA       42638 non-null  float64\n",
      " 14  PREÇO MÉDIO DISTRIBUIÇÃO       42638 non-null  object \n",
      " 15  DESVIO PADRÃO DISTRIBUIÇÃO     42638 non-null  object \n",
      " 16  PREÇO MÍNIMO DISTRIBUIÇÃO      42638 non-null  object \n",
      " 17  PREÇO MÁXIMO DISTRIBUIÇÃO      42638 non-null  object \n",
      " 18  COEF DE VARIAÇÃO DISTRIBUIÇÃO  42638 non-null  object \n",
      "dtypes: float64(5), int64(2), object(12)\n",
      "memory usage: 6.2+ MB\n"
     ]
    }
   ],
   "source": [
    "dados_2000.info()"
   ]
  },
  {
   "cell_type": "code",
   "execution_count": 6,
   "id": "81e1bba5",
   "metadata": {
    "hidden": true
   },
   "outputs": [
    {
     "name": "stdout",
     "output_type": "stream",
     "text": [
      "<class 'pandas.core.frame.DataFrame'>\n",
      "RangeIndex: 78185 entries, 0 to 78184\n",
      "Data columns (total 19 columns):\n",
      " #   Column                         Non-Null Count  Dtype  \n",
      "---  ------                         --------------  -----  \n",
      " 0   Unnamed: 0                     78185 non-null  int64  \n",
      " 1   DATA INICIAL                   78185 non-null  object \n",
      " 2   DATA FINAL                     78185 non-null  object \n",
      " 3   REGIÃO                         78185 non-null  object \n",
      " 4   ESTADO                         78185 non-null  object \n",
      " 5   PRODUTO                        78185 non-null  object \n",
      " 6   NÚMERO DE POSTOS PESQUISADOS   78185 non-null  int64  \n",
      " 7   UNIDADE DE MEDIDA              78185 non-null  object \n",
      " 8   PREÇO MÉDIO REVENDA            78185 non-null  float64\n",
      " 9   DESVIO PADRÃO REVENDA          78185 non-null  float64\n",
      " 10  PREÇO MÍNIMO REVENDA           78185 non-null  float64\n",
      " 11  PREÇO MÁXIMO REVENDA           78185 non-null  float64\n",
      " 12  MARGEM MÉDIA REVENDA           78185 non-null  object \n",
      " 13  COEF DE VARIAÇÃO REVENDA       78185 non-null  float64\n",
      " 14  PREÇO MÉDIO DISTRIBUIÇÃO       78185 non-null  object \n",
      " 15  DESVIO PADRÃO DISTRIBUIÇÃO     78185 non-null  object \n",
      " 16  PREÇO MÍNIMO DISTRIBUIÇÃO      78185 non-null  object \n",
      " 17  PREÇO MÁXIMO DISTRIBUIÇÃO      78185 non-null  object \n",
      " 18  COEF DE VARIAÇÃO DISTRIBUIÇÃO  78185 non-null  object \n",
      "dtypes: float64(5), int64(2), object(12)\n",
      "memory usage: 11.3+ MB\n"
     ]
    }
   ],
   "source": [
    "dados_2010.info()"
   ]
  },
  {
   "cell_type": "markdown",
   "id": "fbfbccbc",
   "metadata": {
    "heading_collapsed": true
   },
   "source": [
    "### Unir DataFrames"
   ]
  },
  {
   "cell_type": "markdown",
   "id": "8194b851",
   "metadata": {
    "hidden": true
   },
   "source": [
    "Como iremos trabalhar com os dados de todo intervalo de tempo, e ambos dataframes tem mesma estrutura, \n",
    "\n",
    "iremos unir-los ante de ser feito os tratamentos necessarios"
   ]
  },
  {
   "cell_type": "code",
   "execution_count": 7,
   "id": "87708bf0",
   "metadata": {
    "hidden": true,
    "scrolled": false
   },
   "outputs": [],
   "source": [
    "dados_total = pd.concat([dados_2000,dados_2010])"
   ]
  },
  {
   "cell_type": "code",
   "execution_count": 8,
   "id": "cd2cc3b8",
   "metadata": {
    "hidden": true
   },
   "outputs": [
    {
     "data": {
      "text/plain": [
       "(120823, 19)"
      ]
     },
     "execution_count": 8,
     "metadata": {},
     "output_type": "execute_result"
    }
   ],
   "source": [
    "dados_total.shape"
   ]
  },
  {
   "cell_type": "markdown",
   "id": "58509424",
   "metadata": {
    "heading_collapsed": true
   },
   "source": [
    "###  Formatar data"
   ]
  },
  {
   "cell_type": "code",
   "execution_count": 9,
   "id": "74f85458",
   "metadata": {
    "hidden": true
   },
   "outputs": [],
   "source": [
    "dados_total['DATA FINAL'] = pd.to_datetime(dados_total['DATA FINAL'])\n",
    "dados_total['ANO'] = dados_total['DATA FINAL'].apply(lambda x :x.year)"
   ]
  },
  {
   "cell_type": "markdown",
   "id": "836cea69",
   "metadata": {},
   "source": [
    "### Tipos de produtos ?"
   ]
  },
  {
   "cell_type": "code",
   "execution_count": 10,
   "id": "ba562b71",
   "metadata": {},
   "outputs": [
    {
     "data": {
      "text/plain": [
       "GASOLINA COMUM        23570\n",
       "GLP                   23561\n",
       "ETANOL HIDRATADO      23440\n",
       "ÓLEO DIESEL           21194\n",
       "GNV                   14469\n",
       "ÓLEO DIESEL S10        9113\n",
       "OLEO DIESEL S10        2376\n",
       "OLEO DIESEL            2351\n",
       "GASOLINA ADITIVADA      749\n",
       "Name: PRODUTO, dtype: int64"
      ]
     },
     "execution_count": 10,
     "metadata": {},
     "output_type": "execute_result"
    }
   ],
   "source": [
    "dados_total['PRODUTO'].value_counts()"
   ]
  },
  {
   "cell_type": "markdown",
   "id": "3fadbc12",
   "metadata": {},
   "source": [
    "### DataFrame contendo apenas Gasolina comum"
   ]
  },
  {
   "cell_type": "code",
   "execution_count": 11,
   "id": "8771a4a9",
   "metadata": {},
   "outputs": [],
   "source": [
    "dados = dados_total[dados_total['PRODUTO']=='GASOLINA COMUM'].copy()"
   ]
  },
  {
   "cell_type": "code",
   "execution_count": 12,
   "id": "08ed74c7",
   "metadata": {},
   "outputs": [
    {
     "data": {
      "text/plain": [
       "(23570, 20)"
      ]
     },
     "execution_count": 12,
     "metadata": {},
     "output_type": "execute_result"
    }
   ],
   "source": [
    "dados.shape"
   ]
  },
  {
   "cell_type": "markdown",
   "id": "2c272343",
   "metadata": {},
   "source": [
    "### Preço medio de revenda no ano de 2010"
   ]
  },
  {
   "cell_type": "code",
   "execution_count": 13,
   "id": "f9e31ce2",
   "metadata": {
    "scrolled": true
   },
   "outputs": [
    {
     "name": "stdout",
     "output_type": "stream",
     "text": [
      "Preço medio de revenda total:R$ 3.20\n",
      "Preço medio de revenda ano 2010 foi:R$ 2.66\n"
     ]
    }
   ],
   "source": [
    "medio_total = dados['PREÇO MÉDIO REVENDA'].mean()\n",
    "print(f\"Preço medio de revenda total:R$ {medio_total:.2f}\")\n",
    "print(f\"Preço medio de revenda ano 2010 foi:R$ {dados[dados['ANO'] == 2010]['PREÇO MÉDIO REVENDA'].mean():.2f}\")"
   ]
  },
  {
   "cell_type": "markdown",
   "id": "ad8e509c",
   "metadata": {},
   "source": [
    "### Preço medio de revenda em 2014 na cidade de são paulo"
   ]
  },
  {
   "cell_type": "code",
   "execution_count": 14,
   "id": "5fc0e96d",
   "metadata": {},
   "outputs": [
    {
     "name": "stdout",
     "output_type": "stream",
     "text": [
      "O preço medio de revenda em 2014 na cidade de são paulo foi :R$ 2.87\n"
     ]
    }
   ],
   "source": [
    "pm = dados[(dados['ESTADO'] == 'SAO PAULO') & (dados['ANO'] == 2014)]['PREÇO MÉDIO REVENDA'].mean()\n",
    "print(f'O preço medio de revenda em 2014 na cidade de são paulo foi :R$ {pm:.2f}')"
   ]
  },
  {
   "cell_type": "markdown",
   "id": "0db495fa",
   "metadata": {},
   "source": [
    "### Qual a média de preço dos estados da região sul em 2012?"
   ]
  },
  {
   "cell_type": "code",
   "execution_count": 15,
   "id": "0879e703",
   "metadata": {},
   "outputs": [
    {
     "name": "stdout",
     "output_type": "stream",
     "text": [
      "O preço medio de revenda dos estados da região sul em 2012 foi :R$ 2.72\n"
     ]
    }
   ],
   "source": [
    "pm2 = dados[(dados['REGIÃO']=='SUL')&(dados['ANO']==2012)]['PREÇO MÉDIO REVENDA'].mean()\n",
    "print(f'O preço medio de revenda dos estados da região sul em 2012 foi :R$ {pm2:.2f}')"
   ]
  },
  {
   "cell_type": "markdown",
   "id": "6c4cab14",
   "metadata": {},
   "source": [
    "### Qual(quais) estado(s) a gasolina ultrapassou a barreira dos R$ 5,00? E quando isso ocorreu?"
   ]
  },
  {
   "cell_type": "code",
   "execution_count": 16,
   "id": "5620849b",
   "metadata": {
    "scrolled": true
   },
   "outputs": [
    {
     "data": {
      "text/html": [
       "<div>\n",
       "<style scoped>\n",
       "    .dataframe tbody tr th:only-of-type {\n",
       "        vertical-align: middle;\n",
       "    }\n",
       "\n",
       "    .dataframe tbody tr th {\n",
       "        vertical-align: top;\n",
       "    }\n",
       "\n",
       "    .dataframe thead th {\n",
       "        text-align: right;\n",
       "    }\n",
       "</style>\n",
       "<table border=\"1\" class=\"dataframe\">\n",
       "  <thead>\n",
       "    <tr style=\"text-align: right;\">\n",
       "      <th></th>\n",
       "      <th>ESTADO</th>\n",
       "      <th>ANO</th>\n",
       "      <th>PREÇO MÁXIMO REVENDA</th>\n",
       "    </tr>\n",
       "  </thead>\n",
       "  <tbody>\n",
       "    <tr>\n",
       "      <th>49833</th>\n",
       "      <td>ACRE</td>\n",
       "      <td>2017</td>\n",
       "      <td>5.100</td>\n",
       "    </tr>\n",
       "    <tr>\n",
       "      <th>50133</th>\n",
       "      <td>ACRE</td>\n",
       "      <td>2017</td>\n",
       "      <td>5.200</td>\n",
       "    </tr>\n",
       "    <tr>\n",
       "      <th>50434</th>\n",
       "      <td>ACRE</td>\n",
       "      <td>2017</td>\n",
       "      <td>5.200</td>\n",
       "    </tr>\n",
       "    <tr>\n",
       "      <th>50733</th>\n",
       "      <td>ACRE</td>\n",
       "      <td>2017</td>\n",
       "      <td>5.200</td>\n",
       "    </tr>\n",
       "    <tr>\n",
       "      <th>51033</th>\n",
       "      <td>ACRE</td>\n",
       "      <td>2017</td>\n",
       "      <td>5.200</td>\n",
       "    </tr>\n",
       "    <tr>\n",
       "      <th>51334</th>\n",
       "      <td>ACRE</td>\n",
       "      <td>2017</td>\n",
       "      <td>5.200</td>\n",
       "    </tr>\n",
       "    <tr>\n",
       "      <th>51634</th>\n",
       "      <td>ACRE</td>\n",
       "      <td>2017</td>\n",
       "      <td>5.200</td>\n",
       "    </tr>\n",
       "    <tr>\n",
       "      <th>51935</th>\n",
       "      <td>ACRE</td>\n",
       "      <td>2017</td>\n",
       "      <td>5.200</td>\n",
       "    </tr>\n",
       "    <tr>\n",
       "      <th>52237</th>\n",
       "      <td>ACRE</td>\n",
       "      <td>2017</td>\n",
       "      <td>5.150</td>\n",
       "    </tr>\n",
       "    <tr>\n",
       "      <th>52538</th>\n",
       "      <td>ACRE</td>\n",
       "      <td>2018</td>\n",
       "      <td>5.150</td>\n",
       "    </tr>\n",
       "    <tr>\n",
       "      <th>52551</th>\n",
       "      <td>PARA</td>\n",
       "      <td>2018</td>\n",
       "      <td>5.040</td>\n",
       "    </tr>\n",
       "    <tr>\n",
       "      <th>52556</th>\n",
       "      <td>RIO DE JANEIRO</td>\n",
       "      <td>2018</td>\n",
       "      <td>5.099</td>\n",
       "    </tr>\n",
       "    <tr>\n",
       "      <th>52689</th>\n",
       "      <td>ACRE</td>\n",
       "      <td>2018</td>\n",
       "      <td>5.150</td>\n",
       "    </tr>\n",
       "    <tr>\n",
       "      <th>52702</th>\n",
       "      <td>PARA</td>\n",
       "      <td>2018</td>\n",
       "      <td>5.040</td>\n",
       "    </tr>\n",
       "    <tr>\n",
       "      <th>52840</th>\n",
       "      <td>ACRE</td>\n",
       "      <td>2018</td>\n",
       "      <td>5.150</td>\n",
       "    </tr>\n",
       "    <tr>\n",
       "      <th>52853</th>\n",
       "      <td>PARA</td>\n",
       "      <td>2018</td>\n",
       "      <td>5.040</td>\n",
       "    </tr>\n",
       "    <tr>\n",
       "      <th>52858</th>\n",
       "      <td>RIO DE JANEIRO</td>\n",
       "      <td>2018</td>\n",
       "      <td>5.099</td>\n",
       "    </tr>\n",
       "    <tr>\n",
       "      <th>52992</th>\n",
       "      <td>ACRE</td>\n",
       "      <td>2018</td>\n",
       "      <td>5.150</td>\n",
       "    </tr>\n",
       "    <tr>\n",
       "      <th>53005</th>\n",
       "      <td>PARA</td>\n",
       "      <td>2018</td>\n",
       "      <td>5.040</td>\n",
       "    </tr>\n",
       "    <tr>\n",
       "      <th>53010</th>\n",
       "      <td>RIO DE JANEIRO</td>\n",
       "      <td>2018</td>\n",
       "      <td>5.099</td>\n",
       "    </tr>\n",
       "  </tbody>\n",
       "</table>\n",
       "</div>"
      ],
      "text/plain": [
       "               ESTADO   ANO  PREÇO MÁXIMO REVENDA\n",
       "49833            ACRE  2017                 5.100\n",
       "50133            ACRE  2017                 5.200\n",
       "50434            ACRE  2017                 5.200\n",
       "50733            ACRE  2017                 5.200\n",
       "51033            ACRE  2017                 5.200\n",
       "51334            ACRE  2017                 5.200\n",
       "51634            ACRE  2017                 5.200\n",
       "51935            ACRE  2017                 5.200\n",
       "52237            ACRE  2017                 5.150\n",
       "52538            ACRE  2018                 5.150\n",
       "52551            PARA  2018                 5.040\n",
       "52556  RIO DE JANEIRO  2018                 5.099\n",
       "52689            ACRE  2018                 5.150\n",
       "52702            PARA  2018                 5.040\n",
       "52840            ACRE  2018                 5.150\n",
       "52853            PARA  2018                 5.040\n",
       "52858  RIO DE JANEIRO  2018                 5.099\n",
       "52992            ACRE  2018                 5.150\n",
       "53005            PARA  2018                 5.040\n",
       "53010  RIO DE JANEIRO  2018                 5.099"
      ]
     },
     "execution_count": 16,
     "metadata": {},
     "output_type": "execute_result"
    }
   ],
   "source": [
    "#se PREÇO MÁXIMO REVENDA > 5,00  mostre ESTADO E ANO\n",
    "dados[dados['PREÇO MÁXIMO REVENDA']>5][['ESTADO','ANO','PREÇO MÁXIMO REVENDA']].head(20)"
   ]
  },
  {
   "cell_type": "markdown",
   "id": "26ce09b0",
   "metadata": {},
   "source": [
    "# Relatório final"
   ]
  },
  {
   "cell_type": "markdown",
   "id": "0b97b0f7",
   "metadata": {},
   "source": [
    "### Tipos de produtos contidos na base? "
   ]
  },
  {
   "cell_type": "markdown",
   "id": "ef2ae5d3",
   "metadata": {},
   "source": [
    "\n",
    "GASOLINA COMUM        \n",
    "GLP                  \n",
    "ETANOL HIDRATADO      \n",
    "ÓLEO DIESEL           \n",
    "GNV                   \n",
    "ÓLEO DIESEL S10        \n",
    "OLEO DIESEL S10        \n",
    "OLEO DIESEL            \n",
    "GASOLINA ADITIVADA      \n",
    "\n",
    "\n"
   ]
  },
  {
   "cell_type": "markdown",
   "id": "c5b26808",
   "metadata": {},
   "source": [
    "### Qual preço medio de revenda no ano de 2010"
   ]
  },
  {
   "cell_type": "markdown",
   "id": "fa57a99f",
   "metadata": {},
   "source": [
    "Preço medio de revenda total:R$ 3.20\n",
    "Preço medio de revenda ano 2010 foi:R$ 2.66"
   ]
  },
  {
   "cell_type": "markdown",
   "id": "780403c8",
   "metadata": {},
   "source": [
    "### Preço medio de revenda em 2014 na cidade de são paulo"
   ]
  },
  {
   "cell_type": "markdown",
   "id": "50e092a4",
   "metadata": {},
   "source": [
    "O preço medio de revenda em 2014 na cidade de são paulo foi :R$ 2.87"
   ]
  },
  {
   "cell_type": "markdown",
   "id": "4d3e8845",
   "metadata": {},
   "source": [
    "### Qual a média de preço dos estados da região sul em 2012?"
   ]
  },
  {
   "cell_type": "markdown",
   "id": "8e7faa5b",
   "metadata": {},
   "source": [
    "O preço medio de revenda dos estados da região sul em 2012 foi :R$ 2.72"
   ]
  },
  {
   "cell_type": "markdown",
   "id": "1f67cf0d",
   "metadata": {
    "heading_collapsed": true
   },
   "source": [
    "### Qual(quais) estado(s) a gasolina ultrapassou a barreira dos R$ 5,00? E quando isso ocorreu?"
   ]
  },
  {
   "cell_type": "code",
   "execution_count": 18,
   "id": "50c98dd2",
   "metadata": {
    "hidden": true
   },
   "outputs": [
    {
     "data": {
      "text/html": [
       "<div>\n",
       "<style scoped>\n",
       "    .dataframe tbody tr th:only-of-type {\n",
       "        vertical-align: middle;\n",
       "    }\n",
       "\n",
       "    .dataframe tbody tr th {\n",
       "        vertical-align: top;\n",
       "    }\n",
       "\n",
       "    .dataframe thead th {\n",
       "        text-align: right;\n",
       "    }\n",
       "</style>\n",
       "<table border=\"1\" class=\"dataframe\">\n",
       "  <thead>\n",
       "    <tr style=\"text-align: right;\">\n",
       "      <th></th>\n",
       "      <th>ESTADO</th>\n",
       "      <th>ANO</th>\n",
       "      <th>PREÇO MÁXIMO REVENDA</th>\n",
       "    </tr>\n",
       "  </thead>\n",
       "  <tbody>\n",
       "    <tr>\n",
       "      <th>49833</th>\n",
       "      <td>ACRE</td>\n",
       "      <td>2017</td>\n",
       "      <td>5.100</td>\n",
       "    </tr>\n",
       "    <tr>\n",
       "      <th>50133</th>\n",
       "      <td>ACRE</td>\n",
       "      <td>2017</td>\n",
       "      <td>5.200</td>\n",
       "    </tr>\n",
       "    <tr>\n",
       "      <th>50434</th>\n",
       "      <td>ACRE</td>\n",
       "      <td>2017</td>\n",
       "      <td>5.200</td>\n",
       "    </tr>\n",
       "    <tr>\n",
       "      <th>50733</th>\n",
       "      <td>ACRE</td>\n",
       "      <td>2017</td>\n",
       "      <td>5.200</td>\n",
       "    </tr>\n",
       "    <tr>\n",
       "      <th>51033</th>\n",
       "      <td>ACRE</td>\n",
       "      <td>2017</td>\n",
       "      <td>5.200</td>\n",
       "    </tr>\n",
       "    <tr>\n",
       "      <th>51334</th>\n",
       "      <td>ACRE</td>\n",
       "      <td>2017</td>\n",
       "      <td>5.200</td>\n",
       "    </tr>\n",
       "    <tr>\n",
       "      <th>51634</th>\n",
       "      <td>ACRE</td>\n",
       "      <td>2017</td>\n",
       "      <td>5.200</td>\n",
       "    </tr>\n",
       "    <tr>\n",
       "      <th>51935</th>\n",
       "      <td>ACRE</td>\n",
       "      <td>2017</td>\n",
       "      <td>5.200</td>\n",
       "    </tr>\n",
       "    <tr>\n",
       "      <th>52237</th>\n",
       "      <td>ACRE</td>\n",
       "      <td>2017</td>\n",
       "      <td>5.150</td>\n",
       "    </tr>\n",
       "    <tr>\n",
       "      <th>52538</th>\n",
       "      <td>ACRE</td>\n",
       "      <td>2018</td>\n",
       "      <td>5.150</td>\n",
       "    </tr>\n",
       "    <tr>\n",
       "      <th>52551</th>\n",
       "      <td>PARA</td>\n",
       "      <td>2018</td>\n",
       "      <td>5.040</td>\n",
       "    </tr>\n",
       "    <tr>\n",
       "      <th>52556</th>\n",
       "      <td>RIO DE JANEIRO</td>\n",
       "      <td>2018</td>\n",
       "      <td>5.099</td>\n",
       "    </tr>\n",
       "    <tr>\n",
       "      <th>52689</th>\n",
       "      <td>ACRE</td>\n",
       "      <td>2018</td>\n",
       "      <td>5.150</td>\n",
       "    </tr>\n",
       "    <tr>\n",
       "      <th>52702</th>\n",
       "      <td>PARA</td>\n",
       "      <td>2018</td>\n",
       "      <td>5.040</td>\n",
       "    </tr>\n",
       "    <tr>\n",
       "      <th>52840</th>\n",
       "      <td>ACRE</td>\n",
       "      <td>2018</td>\n",
       "      <td>5.150</td>\n",
       "    </tr>\n",
       "    <tr>\n",
       "      <th>52853</th>\n",
       "      <td>PARA</td>\n",
       "      <td>2018</td>\n",
       "      <td>5.040</td>\n",
       "    </tr>\n",
       "    <tr>\n",
       "      <th>52858</th>\n",
       "      <td>RIO DE JANEIRO</td>\n",
       "      <td>2018</td>\n",
       "      <td>5.099</td>\n",
       "    </tr>\n",
       "    <tr>\n",
       "      <th>52992</th>\n",
       "      <td>ACRE</td>\n",
       "      <td>2018</td>\n",
       "      <td>5.150</td>\n",
       "    </tr>\n",
       "    <tr>\n",
       "      <th>53005</th>\n",
       "      <td>PARA</td>\n",
       "      <td>2018</td>\n",
       "      <td>5.040</td>\n",
       "    </tr>\n",
       "    <tr>\n",
       "      <th>53010</th>\n",
       "      <td>RIO DE JANEIRO</td>\n",
       "      <td>2018</td>\n",
       "      <td>5.099</td>\n",
       "    </tr>\n",
       "  </tbody>\n",
       "</table>\n",
       "</div>"
      ],
      "text/plain": [
       "               ESTADO   ANO  PREÇO MÁXIMO REVENDA\n",
       "49833            ACRE  2017                 5.100\n",
       "50133            ACRE  2017                 5.200\n",
       "50434            ACRE  2017                 5.200\n",
       "50733            ACRE  2017                 5.200\n",
       "51033            ACRE  2017                 5.200\n",
       "51334            ACRE  2017                 5.200\n",
       "51634            ACRE  2017                 5.200\n",
       "51935            ACRE  2017                 5.200\n",
       "52237            ACRE  2017                 5.150\n",
       "52538            ACRE  2018                 5.150\n",
       "52551            PARA  2018                 5.040\n",
       "52556  RIO DE JANEIRO  2018                 5.099\n",
       "52689            ACRE  2018                 5.150\n",
       "52702            PARA  2018                 5.040\n",
       "52840            ACRE  2018                 5.150\n",
       "52853            PARA  2018                 5.040\n",
       "52858  RIO DE JANEIRO  2018                 5.099\n",
       "52992            ACRE  2018                 5.150\n",
       "53005            PARA  2018                 5.040\n",
       "53010  RIO DE JANEIRO  2018                 5.099"
      ]
     },
     "execution_count": 18,
     "metadata": {},
     "output_type": "execute_result"
    }
   ],
   "source": [
    "dados[dados['PREÇO MÁXIMO REVENDA']>5][['ESTADO','ANO','PREÇO MÁXIMO REVENDA']].head(20)"
   ]
  },
  {
   "cell_type": "code",
   "execution_count": null,
   "id": "c9307f0e",
   "metadata": {
    "hidden": true
   },
   "outputs": [],
   "source": []
  }
 ],
 "metadata": {
  "kernelspec": {
   "display_name": "Python 3 (ipykernel)",
   "language": "python",
   "name": "python3"
  },
  "language_info": {
   "codemirror_mode": {
    "name": "ipython",
    "version": 3
   },
   "file_extension": ".py",
   "mimetype": "text/x-python",
   "name": "python",
   "nbconvert_exporter": "python",
   "pygments_lexer": "ipython3",
   "version": "3.9.12"
  },
  "toc": {
   "base_numbering": 1,
   "nav_menu": {},
   "number_sections": true,
   "sideBar": true,
   "skip_h1_title": false,
   "title_cell": "Table of Contents",
   "title_sidebar": "Contents",
   "toc_cell": false,
   "toc_position": {
    "height": "calc(100% - 180px)",
    "left": "10px",
    "top": "150px",
    "width": "320px"
   },
   "toc_section_display": true,
   "toc_window_display": false
  }
 },
 "nbformat": 4,
 "nbformat_minor": 5
}
